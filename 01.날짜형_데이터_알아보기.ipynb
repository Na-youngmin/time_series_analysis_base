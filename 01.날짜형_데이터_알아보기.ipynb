{
 "cells": [
  {
   "cell_type": "markdown",
   "id": "89166bbf",
   "metadata": {},
   "source": [
    "### [디지털 금융의 이해] 2주차 수업 (2023-03-10)"
   ]
  },
  {
   "cell_type": "markdown",
   "id": "4552af02",
   "metadata": {},
   "source": [
    "***"
   ]
  },
  {
   "cell_type": "markdown",
   "id": "eed4d84a",
   "metadata": {},
   "source": [
    "> < 2주차 수업 학습 목표 >\n",
    "> - 시계열 데이터 살펴보기\n",
    "> - 시계열 데이터의 날짜 관련 타입 알아보기\n",
    "> - 결측치 여부를 확인하고 랜덤하게 행 인덱스를 추출하여 임의로 결측치 생성하기\n",
    "> - 결측치 생성 전후의 그래프 그려보기"
   ]
  },
  {
   "cell_type": "markdown",
   "id": "fd007de4",
   "metadata": {},
   "source": [
    "***"
   ]
  },
  {
   "cell_type": "markdown",
   "id": "dc212287",
   "metadata": {},
   "source": [
    "- 파이썬 버전 확인"
   ]
  },
  {
   "cell_type": "code",
   "execution_count": 22,
   "id": "b92d8f54",
   "metadata": {},
   "outputs": [],
   "source": [
    "import sys\n",
    "#print(sys.version)"
   ]
  },
  {
   "cell_type": "markdown",
   "id": "3c692e73",
   "metadata": {},
   "source": [
    "- 파이썬 버전 업그레이드"
   ]
  },
  {
   "cell_type": "code",
   "execution_count": 23,
   "id": "5c5d079c",
   "metadata": {},
   "outputs": [],
   "source": [
    "#!pip install notebook --upgrade"
   ]
  },
  {
   "cell_type": "markdown",
   "id": "daad1eb4",
   "metadata": {},
   "source": [
    "- 패키지(모듈) 설치\n",
    " - pip : 파이썬(python)으로 작성된 패키지 소프트웨어를 설치·관리하는 패키지 관리 시스템\n",
    " - pip (Python2,  2020년 1월 1일 자로 추가적인 업데이트 지원 종료) vs pip3 (Python3) : 파이썬 버전의 차이\n",
    " - Python 2.7.9 이후 버전과 Python 3.4 이후 버전이라면, pip가 내장되어 있어 따로 pip를 설치할 필요 없음 <br>\n",
    "   (터미널에서의 명령어 : pip 혹은 pip3 를 통해 설치되어 있는 것을 확인)\n",
    " - pip 업데이트 : pip는 자주 업데이트 되기 때문에 자주 업데이트하는 것이 좋음 <br>\n",
    "   (터미널에서의 명령어 : pip install --upgrade pip)"
   ]
  },
  {
   "cell_type": "markdown",
   "id": "e530762d",
   "metadata": {},
   "source": [
    "1) 현재 설치된 파이썬 패키지 목록들을 반환"
   ]
  },
  {
   "cell_type": "code",
   "execution_count": 16,
   "id": "2f5f8d24",
   "metadata": {},
   "outputs": [],
   "source": [
    "#!pip list"
   ]
  },
  {
   "cell_type": "markdown",
   "id": "490c6129",
   "metadata": {},
   "source": [
    "2) pip 자체를 업그레이드"
   ]
  },
  {
   "cell_type": "code",
   "execution_count": 17,
   "id": "f9cea301",
   "metadata": {},
   "outputs": [
    {
     "name": "stdout",
     "output_type": "stream",
     "text": [
      "Requirement already satisfied: pip in c:\\users\\kogeu\\anaconda3\\lib\\site-packages (23.0.1)\n"
     ]
    }
   ],
   "source": [
    "#!pip install --upgrade pip"
   ]
  },
  {
   "cell_type": "markdown",
   "id": "711b7b4d",
   "metadata": {},
   "source": [
    "3) pip을 이용하여 특정 패키지 설치 <br>\n",
    " : !pip install <패키지 이름>"
   ]
  },
  {
   "cell_type": "markdown",
   "id": "ed6eaf4f",
   "metadata": {},
   "source": [
    "4) pip을 이용하여 설치된 패키지 제거 <br>\n",
    " : !pip uninstall <패키지 이름>"
   ]
  },
  {
   "cell_type": "markdown",
   "id": "646ec128",
   "metadata": {},
   "source": [
    "*** "
   ]
  },
  {
   "cell_type": "markdown",
   "id": "c8bc2de5",
   "metadata": {},
   "source": [
    "### > 필요한 모듈 임포트\n",
    " - 설치 권한이 없을 시, '관리자로 실행'하여 다시 재설치 진행"
   ]
  },
  {
   "cell_type": "code",
   "execution_count": 91,
   "id": "b2411039",
   "metadata": {},
   "outputs": [],
   "source": [
    "from IPython.display import Image   # 이미지 파일 불러오기\n",
    "import yfinance as yf     # 주가 데이터 불러오기\n",
    "import datetime           # 날짜 관련 타입\n",
    "import pandas as pd\n",
    "import numpy as np        # 행렬이나 일반적으로 대규모 다차원 배열을 쉽게 처리. 데이터 구조 외에도 수치 계산에도 효율적임. "
   ]
  },
  {
   "cell_type": "markdown",
   "id": "ebda636a",
   "metadata": {},
   "source": [
    "### > 시계열 데이터 불러오기 :  야후 파이낸스의 LG 화학 주가 데이터\n",
    " - 종목 'LG 화학'의 종가 (Adj Close) 사용\n",
    " - 시계열 데이터가 3년치 있을 시, 계절성을 고려해야하는데 이는 결측치 대체가 끝난 후 살펴볼 내용으로 <br>\n",
    "   주가 데이터는 2년치로 제한"
   ]
  },
  {
   "cell_type": "code",
   "execution_count": 118,
   "id": "cede2dc6",
   "metadata": {},
   "outputs": [
    {
     "name": "stdout",
     "output_type": "stream",
     "text": [
      "[*********************100%***********************]  1 of 1 completed\n"
     ]
    },
    {
     "data": {
      "text/html": [
       "<div>\n",
       "<style scoped>\n",
       "    .dataframe tbody tr th:only-of-type {\n",
       "        vertical-align: middle;\n",
       "    }\n",
       "\n",
       "    .dataframe tbody tr th {\n",
       "        vertical-align: top;\n",
       "    }\n",
       "\n",
       "    .dataframe thead th {\n",
       "        text-align: right;\n",
       "    }\n",
       "</style>\n",
       "<table border=\"1\" class=\"dataframe\">\n",
       "  <thead>\n",
       "    <tr style=\"text-align: right;\">\n",
       "      <th></th>\n",
       "      <th>Open</th>\n",
       "      <th>High</th>\n",
       "      <th>Low</th>\n",
       "      <th>Close</th>\n",
       "      <th>Adj Close</th>\n",
       "      <th>Volume</th>\n",
       "    </tr>\n",
       "    <tr>\n",
       "      <th>Date</th>\n",
       "      <th></th>\n",
       "      <th></th>\n",
       "      <th></th>\n",
       "      <th></th>\n",
       "      <th></th>\n",
       "      <th></th>\n",
       "    </tr>\n",
       "  </thead>\n",
       "  <tbody>\n",
       "    <tr>\n",
       "      <th>2021-01-04</th>\n",
       "      <td>849000.0</td>\n",
       "      <td>900000.0</td>\n",
       "      <td>835000.0</td>\n",
       "      <td>889000.0</td>\n",
       "      <td>858233.0000</td>\n",
       "      <td>858451</td>\n",
       "    </tr>\n",
       "    <tr>\n",
       "      <th>2021-01-05</th>\n",
       "      <td>891000.0</td>\n",
       "      <td>893000.0</td>\n",
       "      <td>875000.0</td>\n",
       "      <td>893000.0</td>\n",
       "      <td>862094.5625</td>\n",
       "      <td>371709</td>\n",
       "    </tr>\n",
       "    <tr>\n",
       "      <th>2021-01-06</th>\n",
       "      <td>908000.0</td>\n",
       "      <td>912000.0</td>\n",
       "      <td>883000.0</td>\n",
       "      <td>890000.0</td>\n",
       "      <td>859198.3750</td>\n",
       "      <td>513628</td>\n",
       "    </tr>\n",
       "    <tr>\n",
       "      <th>2021-01-07</th>\n",
       "      <td>910000.0</td>\n",
       "      <td>969000.0</td>\n",
       "      <td>896000.0</td>\n",
       "      <td>962000.0</td>\n",
       "      <td>928706.5625</td>\n",
       "      <td>706912</td>\n",
       "    </tr>\n",
       "    <tr>\n",
       "      <th>2021-01-08</th>\n",
       "      <td>989000.0</td>\n",
       "      <td>1016000.0</td>\n",
       "      <td>970000.0</td>\n",
       "      <td>999000.0</td>\n",
       "      <td>964426.0625</td>\n",
       "      <td>924780</td>\n",
       "    </tr>\n",
       "    <tr>\n",
       "      <th>...</th>\n",
       "      <td>...</td>\n",
       "      <td>...</td>\n",
       "      <td>...</td>\n",
       "      <td>...</td>\n",
       "      <td>...</td>\n",
       "      <td>...</td>\n",
       "    </tr>\n",
       "    <tr>\n",
       "      <th>2022-12-23</th>\n",
       "      <td>619000.0</td>\n",
       "      <td>624000.0</td>\n",
       "      <td>603000.0</td>\n",
       "      <td>610000.0</td>\n",
       "      <td>600286.6250</td>\n",
       "      <td>135064</td>\n",
       "    </tr>\n",
       "    <tr>\n",
       "      <th>2022-12-26</th>\n",
       "      <td>604000.0</td>\n",
       "      <td>621000.0</td>\n",
       "      <td>600000.0</td>\n",
       "      <td>618000.0</td>\n",
       "      <td>608159.2500</td>\n",
       "      <td>99300</td>\n",
       "    </tr>\n",
       "    <tr>\n",
       "      <th>2022-12-27</th>\n",
       "      <td>624000.0</td>\n",
       "      <td>635000.0</td>\n",
       "      <td>620000.0</td>\n",
       "      <td>628000.0</td>\n",
       "      <td>618000.0000</td>\n",
       "      <td>113845</td>\n",
       "    </tr>\n",
       "    <tr>\n",
       "      <th>2022-12-28</th>\n",
       "      <td>614000.0</td>\n",
       "      <td>614000.0</td>\n",
       "      <td>598000.0</td>\n",
       "      <td>602000.0</td>\n",
       "      <td>602000.0000</td>\n",
       "      <td>178560</td>\n",
       "    </tr>\n",
       "    <tr>\n",
       "      <th>2022-12-29</th>\n",
       "      <td>597000.0</td>\n",
       "      <td>607000.0</td>\n",
       "      <td>593000.0</td>\n",
       "      <td>600000.0</td>\n",
       "      <td>600000.0000</td>\n",
       "      <td>103968</td>\n",
       "    </tr>\n",
       "  </tbody>\n",
       "</table>\n",
       "<p>492 rows × 6 columns</p>\n",
       "</div>"
      ],
      "text/plain": [
       "                Open       High       Low     Close    Adj Close  Volume\n",
       "Date                                                                    \n",
       "2021-01-04  849000.0   900000.0  835000.0  889000.0  858233.0000  858451\n",
       "2021-01-05  891000.0   893000.0  875000.0  893000.0  862094.5625  371709\n",
       "2021-01-06  908000.0   912000.0  883000.0  890000.0  859198.3750  513628\n",
       "2021-01-07  910000.0   969000.0  896000.0  962000.0  928706.5625  706912\n",
       "2021-01-08  989000.0  1016000.0  970000.0  999000.0  964426.0625  924780\n",
       "...              ...        ...       ...       ...          ...     ...\n",
       "2022-12-23  619000.0   624000.0  603000.0  610000.0  600286.6250  135064\n",
       "2022-12-26  604000.0   621000.0  600000.0  618000.0  608159.2500   99300\n",
       "2022-12-27  624000.0   635000.0  620000.0  628000.0  618000.0000  113845\n",
       "2022-12-28  614000.0   614000.0  598000.0  602000.0  602000.0000  178560\n",
       "2022-12-29  597000.0   607000.0  593000.0  600000.0  600000.0000  103968\n",
       "\n",
       "[492 rows x 6 columns]"
      ]
     },
     "metadata": {},
     "output_type": "display_data"
    }
   ],
   "source": [
    "df_lg = yf.download('051910.KS', start = '2021-01-01', end = '2022-12-31')\n",
    "display(df_lg)"
   ]
  },
  {
   "cell_type": "code",
   "execution_count": 119,
   "id": "73d657e8",
   "metadata": {},
   "outputs": [],
   "source": [
    "#df_lg.info()"
   ]
  },
  {
   "cell_type": "markdown",
   "id": "3b35401d",
   "metadata": {},
   "source": [
    "### > 시계열 데이터의 날짜 관련 타입들\n",
    " - 외부 데이터를 불러올 시, index_col = 'Date'를 통해, 변수 Date 인덱스로 설정하고 판다스 시리즈 타입으로 임포트할 수 있음"
   ]
  },
  {
   "cell_type": "markdown",
   "id": "a22cb6d1",
   "metadata": {},
   "source": [
    "- 날짜 포맷 코드"
   ]
  },
  {
   "cell_type": "code",
   "execution_count": 120,
   "id": "dd2443ac",
   "metadata": {},
   "outputs": [
    {
     "data": {
      "image/png": "[encoded data removed]",
      "text/plain": [
       "<IPython.core.display.Image object>"
      ]
     },
     "execution_count": 120,
     "metadata": {},
     "output_type": "execute_result"
    }
   ],
   "source": [
    "img_dir = \"D:/OT 및 2주차/fig/\"\n",
    "Image(img_dir + \"날짜 포맷 코드 정리.png\")"
   ]
  },
  {
   "cell_type": "markdown",
   "id": "f650ce17",
   "metadata": {},
   "source": [
    "#### 1) {Date} 와 {Datetime} : 시간대 존재 여부의 차이"
   ]
  },
  {
   "cell_type": "code",
   "execution_count": 121,
   "id": "a4b088fe",
   "metadata": {},
   "outputs": [
    {
     "name": "stdout",
     "output_type": "stream",
     "text": [
      "2023-03-10\n"
     ]
    },
    {
     "data": {
      "text/plain": [
       "datetime.date"
      ]
     },
     "execution_count": 121,
     "metadata": {},
     "output_type": "execute_result"
    }
   ],
   "source": [
    "time1 = datetime.date(2023,3,10)\n",
    "print(time1) ; type(time1)"
   ]
  },
  {
   "cell_type": "code",
   "execution_count": 122,
   "id": "e34c4594",
   "metadata": {},
   "outputs": [
    {
     "name": "stdout",
     "output_type": "stream",
     "text": [
      "2023-03-10 11:05:36\n"
     ]
    },
    {
     "data": {
      "text/plain": [
       "datetime.datetime"
      ]
     },
     "execution_count": 122,
     "metadata": {},
     "output_type": "execute_result"
    }
   ],
   "source": [
    "time2 = datetime.datetime(2023, 3, 10, 11, 5, 36)\n",
    "print(time2) ; type(time2)"
   ]
  },
  {
   "cell_type": "markdown",
   "id": "0a30a76e",
   "metadata": {},
   "source": [
    "#### 2) {Timestamp} : pandas 모듈에서 생성\n",
    " - str값으로 넣어주어야 함"
   ]
  },
  {
   "cell_type": "code",
   "execution_count": 123,
   "id": "d7db1f43",
   "metadata": {},
   "outputs": [
    {
     "name": "stdout",
     "output_type": "stream",
     "text": [
      "2023-03-10 11:05:36\n"
     ]
    },
    {
     "data": {
      "text/plain": [
       "pandas._libs.tslibs.timestamps.Timestamp"
      ]
     },
     "execution_count": 123,
     "metadata": {},
     "output_type": "execute_result"
    }
   ],
   "source": [
    "time3 = pd.Timestamp('2023-03-10T11:05:36')\n",
    "print(time3) ; type(time3)"
   ]
  },
  {
   "cell_type": "markdown",
   "id": "d8debe05",
   "metadata": {},
   "source": [
    "#### 3) 세 가지의 날짜 관련 타입은 비슷한 듯 보이지만 다름\n",
    " - 같은 시간일 경우, 다른 타입이어도 같은 것으로 인식됨"
   ]
  },
  {
   "cell_type": "code",
   "execution_count": 124,
   "id": "caaaae16",
   "metadata": {},
   "outputs": [
    {
     "data": {
      "text/plain": [
       "False"
      ]
     },
     "execution_count": 124,
     "metadata": {},
     "output_type": "execute_result"
    }
   ],
   "source": [
    "time1 == time2"
   ]
  },
  {
   "cell_type": "code",
   "execution_count": 125,
   "id": "872a1f1c",
   "metadata": {},
   "outputs": [
    {
     "data": {
      "text/plain": [
       "True"
      ]
     },
     "execution_count": 125,
     "metadata": {},
     "output_type": "execute_result"
    }
   ],
   "source": [
    "time2 == time3"
   ]
  },
  {
   "cell_type": "markdown",
   "id": "15250965",
   "metadata": {},
   "source": [
    "#### 4) 타입 변환하기"
   ]
  },
  {
   "cell_type": "markdown",
   "id": "038bab9e",
   "metadata": {},
   "source": [
    "- Date/Timestamp to Datetime <br>\n",
    " :  * 반드시 입력값 형태와 같은 format을 입력해야하고 문자열(str) 형식으로 넣어주어야 함 : strftime() / isoformat() *"
   ]
  },
  {
   "cell_type": "code",
   "execution_count": 126,
   "id": "342aec26",
   "metadata": {},
   "outputs": [
    {
     "data": {
      "text/plain": [
       "datetime.datetime(2023, 3, 10, 11, 5, 36)"
      ]
     },
     "execution_count": 126,
     "metadata": {},
     "output_type": "execute_result"
    }
   ],
   "source": [
    "datetime.datetime.strptime(time1.strftime('%Y-%m-%d'), '%Y-%m-%d')\n",
    "datetime.datetime.strptime(time3.isoformat(), '%Y-%m-%dT%H:%M:%S')"
   ]
  },
  {
   "cell_type": "markdown",
   "id": "28692108",
   "metadata": {},
   "source": [
    "- Datetime/Timestamp to Date : datetime에서 date() 를 붙이면 됨"
   ]
  },
  {
   "cell_type": "code",
   "execution_count": 127,
   "id": "04786acf",
   "metadata": {},
   "outputs": [
    {
     "data": {
      "text/plain": [
       "False"
      ]
     },
     "execution_count": 127,
     "metadata": {},
     "output_type": "execute_result"
    }
   ],
   "source": [
    "time1 == time2"
   ]
  },
  {
   "cell_type": "code",
   "execution_count": 128,
   "id": "7da3fd0f",
   "metadata": {},
   "outputs": [
    {
     "data": {
      "text/plain": [
       "datetime.date(2023, 3, 10)"
      ]
     },
     "execution_count": 128,
     "metadata": {},
     "output_type": "execute_result"
    }
   ],
   "source": [
    "datetime.datetime.strptime(time1.strftime('%Y-%m-%d'), '%Y-%m-%d').date()\n",
    "datetime.datetime.strptime(time3.isoformat(), '%Y-%m-%dT%H:%M:%S').date()"
   ]
  },
  {
   "cell_type": "code",
   "execution_count": 129,
   "id": "c25b36f4",
   "metadata": {},
   "outputs": [
    {
     "data": {
      "text/plain": [
       "True"
      ]
     },
     "execution_count": 129,
     "metadata": {},
     "output_type": "execute_result"
    }
   ],
   "source": [
    "datetime.datetime(2023, 3, 10, 11, 5, 36) == pd.Timestamp('2023-03-10T11:05:36') "
   ]
  },
  {
   "cell_type": "code",
   "execution_count": 130,
   "id": "a031ac24",
   "metadata": {},
   "outputs": [
    {
     "data": {
      "text/plain": [
       "datetime.datetime(2023, 3, 10, 11, 5, 36)"
      ]
     },
     "execution_count": 130,
     "metadata": {},
     "output_type": "execute_result"
    }
   ],
   "source": [
    "time2 "
   ]
  },
  {
   "cell_type": "markdown",
   "id": "2bd11306",
   "metadata": {},
   "source": [
    "- Date/Datetime to Timestamp"
   ]
  },
  {
   "cell_type": "code",
   "execution_count": 131,
   "id": "5abccaf9",
   "metadata": {},
   "outputs": [
    {
     "data": {
      "text/plain": [
       "Timestamp('2023-03-10 11:05:36')"
      ]
     },
     "execution_count": 131,
     "metadata": {},
     "output_type": "execute_result"
    }
   ],
   "source": [
    "pd.to_datetime(time1)\n",
    "pd.to_datetime(time2)"
   ]
  },
  {
   "cell_type": "markdown",
   "id": "7028ffc7",
   "metadata": {},
   "source": [
    "### > 결측치 생성하기"
   ]
  },
  {
   "cell_type": "markdown",
   "id": "0766f124",
   "metadata": {},
   "source": [
    "- 변수별 결측치 확인"
   ]
  },
  {
   "cell_type": "code",
   "execution_count": 132,
   "id": "fc0f2f58",
   "metadata": {},
   "outputs": [
    {
     "data": {
      "text/plain": [
       "Open         0\n",
       "High         0\n",
       "Low          0\n",
       "Close        0\n",
       "Adj Close    0\n",
       "Volume       0\n",
       "dtype: int64"
      ]
     },
     "execution_count": 132,
     "metadata": {},
     "output_type": "execute_result"
    }
   ],
   "source": [
    "df_lg.isnull().sum()"
   ]
  },
  {
   "cell_type": "markdown",
   "id": "4468f2b5",
   "metadata": {},
   "source": [
    "- 행 인덱스를 추출하여 임의로 결측치 생성하기"
   ]
  },
  {
   "cell_type": "code",
   "execution_count": 133,
   "id": "2b857845",
   "metadata": {},
   "outputs": [],
   "source": [
    "# iloc('integer location'의 약자)\n",
    "df_lg = df_lg.loc[:, ['Adj Close']] "
   ]
  },
  {
   "cell_type": "code",
   "execution_count": 134,
   "id": "aa0f9a1e",
   "metadata": {},
   "outputs": [
    {
     "data": {
      "text/html": [
       "<div>\n",
       "<style scoped>\n",
       "    .dataframe tbody tr th:only-of-type {\n",
       "        vertical-align: middle;\n",
       "    }\n",
       "\n",
       "    .dataframe tbody tr th {\n",
       "        vertical-align: top;\n",
       "    }\n",
       "\n",
       "    .dataframe thead th {\n",
       "        text-align: right;\n",
       "    }\n",
       "</style>\n",
       "<table border=\"1\" class=\"dataframe\">\n",
       "  <thead>\n",
       "    <tr style=\"text-align: right;\">\n",
       "      <th></th>\n",
       "      <th>Adj Close</th>\n",
       "    </tr>\n",
       "    <tr>\n",
       "      <th>Date</th>\n",
       "      <th></th>\n",
       "    </tr>\n",
       "  </thead>\n",
       "  <tbody>\n",
       "    <tr>\n",
       "      <th>2021-01-04</th>\n",
       "      <td>858233.0000</td>\n",
       "    </tr>\n",
       "    <tr>\n",
       "      <th>2021-01-05</th>\n",
       "      <td>862094.5625</td>\n",
       "    </tr>\n",
       "    <tr>\n",
       "      <th>2021-01-06</th>\n",
       "      <td>859198.3750</td>\n",
       "    </tr>\n",
       "    <tr>\n",
       "      <th>2021-01-07</th>\n",
       "      <td>928706.5625</td>\n",
       "    </tr>\n",
       "    <tr>\n",
       "      <th>2021-01-08</th>\n",
       "      <td>964426.0625</td>\n",
       "    </tr>\n",
       "  </tbody>\n",
       "</table>\n",
       "</div>"
      ],
      "text/plain": [
       "              Adj Close\n",
       "Date                   \n",
       "2021-01-04  858233.0000\n",
       "2021-01-05  862094.5625\n",
       "2021-01-06  859198.3750\n",
       "2021-01-07  928706.5625\n",
       "2021-01-08  964426.0625"
      ]
     },
     "execution_count": 134,
     "metadata": {},
     "output_type": "execute_result"
    }
   ],
   "source": [
    "df_lg.head()"
   ]
  },
  {
   "cell_type": "code",
   "execution_count": 135,
   "id": "477b1f78",
   "metadata": {},
   "outputs": [
    {
     "data": {
      "text/plain": [
       "(492, 1)"
      ]
     },
     "execution_count": 135,
     "metadata": {},
     "output_type": "execute_result"
    }
   ],
   "source": [
    "df_lg.shape\n",
    "#len(df_lg)"
   ]
  },
  {
   "cell_type": "code",
   "execution_count": 136,
   "id": "7c9cf7b1",
   "metadata": {},
   "outputs": [],
   "source": [
    "df_lg.reset_index(drop = False, inplace = True) "
   ]
  },
  {
   "cell_type": "code",
   "execution_count": 141,
   "id": "53f65b81",
   "metadata": {},
   "outputs": [
    {
     "data": {
      "text/plain": [
       "Int64Index([152, 372, 104, 232, 390, 467,  92, 451,  57, 459, 194, 301, 176,\n",
       "            182, 417, 124, 107, 160, 305, 474, 167, 463, 382,  72],\n",
       "           dtype='int64')"
      ]
     },
     "execution_count": 141,
     "metadata": {},
     "output_type": "execute_result"
    }
   ],
   "source": [
    "df_NaN = df_lg.sample(n = int(len(df_lg) * 0.05), random_state = 23310)\n",
    "df_NaN.index"
   ]
  },
  {
   "cell_type": "code",
   "execution_count": 139,
   "id": "5d40105a",
   "metadata": {},
   "outputs": [
    {
     "ename": "TypeError",
     "evalue": "unhashable type: 'RangeIndex'",
     "output_type": "error",
     "traceback": [
      "\u001b[1;31m---------------------------------------------------------------------------\u001b[0m",
      "\u001b[1;31mTypeError\u001b[0m                                 Traceback (most recent call last)",
      "\u001b[1;32m<ipython-input-139-b1d5694fb201>\u001b[0m in \u001b[0;36m<module>\u001b[1;34m\u001b[0m\n\u001b[1;32m----> 1\u001b[1;33m \u001b[0mdf_lg\u001b[0m\u001b[1;33m.\u001b[0m\u001b[0mindex\u001b[0m \u001b[1;32min\u001b[0m \u001b[0mdf_NaN\u001b[0m\u001b[1;33m.\u001b[0m\u001b[0mindex\u001b[0m\u001b[1;33m\u001b[0m\u001b[1;33m\u001b[0m\u001b[0m\n\u001b[0m",
      "\u001b[1;32m~\\anaconda3\\lib\\site-packages\\pandas\\core\\indexes\\base.py\u001b[0m in \u001b[0;36m__contains__\u001b[1;34m(self, key)\u001b[0m\n\u001b[0;32m   5287\u001b[0m         \u001b[1;32mFalse\u001b[0m\u001b[1;33m\u001b[0m\u001b[1;33m\u001b[0m\u001b[0m\n\u001b[0;32m   5288\u001b[0m         \"\"\"\n\u001b[1;32m-> 5289\u001b[1;33m         \u001b[0mhash\u001b[0m\u001b[1;33m(\u001b[0m\u001b[0mkey\u001b[0m\u001b[1;33m)\u001b[0m\u001b[1;33m\u001b[0m\u001b[1;33m\u001b[0m\u001b[0m\n\u001b[0m\u001b[0;32m   5290\u001b[0m         \u001b[1;32mtry\u001b[0m\u001b[1;33m:\u001b[0m\u001b[1;33m\u001b[0m\u001b[1;33m\u001b[0m\u001b[0m\n\u001b[0;32m   5291\u001b[0m             \u001b[1;32mreturn\u001b[0m \u001b[0mkey\u001b[0m \u001b[1;32min\u001b[0m \u001b[0mself\u001b[0m\u001b[1;33m.\u001b[0m\u001b[0m_engine\u001b[0m\u001b[1;33m\u001b[0m\u001b[1;33m\u001b[0m\u001b[0m\n",
      "\u001b[1;31mTypeError\u001b[0m: unhashable type: 'RangeIndex'"
     ]
    }
   ],
   "source": [
    "df_lg.index in df_NaN.index"
   ]
  },
  {
   "cell_type": "code",
   "execution_count": null,
   "id": "4b05fccc",
   "metadata": {},
   "outputs": [],
   "source": []
  }
 ],
 "metadata": {
  "kernelspec": {
   "display_name": "Python 3 (ipykernel)",
   "language": "python",
   "name": "python3"
  },
  "language_info": {
   "codemirror_mode": {
    "name": "ipython",
    "version": 3
   },
   "file_extension": ".py",
   "mimetype": "text/x-python",
   "name": "python",
   "nbconvert_exporter": "python",
   "pygments_lexer": "ipython3",
   "version": "3.10.5"
  }
 },
 "nbformat": 4,
 "nbformat_minor": 5
}
